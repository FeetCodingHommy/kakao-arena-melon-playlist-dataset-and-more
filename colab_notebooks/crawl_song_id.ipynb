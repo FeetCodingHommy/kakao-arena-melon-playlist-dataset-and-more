{
 "cells": [
  {
   "cell_type": "markdown",
   "metadata": {},
   "source": [
    "[![Open In Colab](https://colab.research.google.com/assets/colab-badge.svg)](https://colab.research.google.com/github/FeetCodingHommy/kakao-arena-melon-playlist-dataset-and-more/blob/master/colab_notebooks/crawl_song_id.ipynb)"
   ]
  },
  {
   "cell_type": "markdown",
   "metadata": {},
   "source": [
    "# 세팅"
   ]
  },
  {
   "cell_type": "code",
   "execution_count": null,
   "metadata": {},
   "outputs": [],
   "source": [
    "!git clone https://github.com/FeetCodingHommy/kakao-arena-melon-playlist-dataset-and-more.git"
   ]
  },
  {
   "cell_type": "markdown",
   "metadata": {},
   "source": [
    "!pip install -qq scrapy\r\n",
    "!pip install -qq selenium"
   ]
  },
  {
   "cell_type": "code",
   "execution_count": null,
   "metadata": {},
   "outputs": [],
   "source": [
    "import sys\r\n",
    "sys.path.append(\"/content/kakao-arena-melon-playlist-dataset-and-more/melon_scrapy\") # custom_settings에 필요\r\n",
    "import melon_scrapy"
   ]
  },
  {
   "cell_type": "code",
   "execution_count": null,
   "metadata": {},
   "outputs": [],
   "source": [
    "# 코랩 세션 끊김 방지\r\n",
    "#   아래 코드를 크롬 F12 콘솔에 실행\r\n",
    "\r\n",
    "%%javascript\r\n",
    "// function ClickConnect(){\r\n",
    "//     console.log(\"9분!\"); \r\n",
    "//     document.querySelector(\"colab-toolbar-button\").click() \r\n",
    "// }\r\n",
    "// setInterval(ClickConnect, 9 * 60 * 1000)\r\n",
    "console.log(\"Melon Crawler - Song ID collect\")"
   ]
  }
 ],
 "metadata": {
  "interpreter": {
   "hash": "807919ce9057c9529cd8b6c5c8620b2187a7530862fc9776e507e51bf3b9aadd"
  },
  "kernelspec": {
   "display_name": "Python 3.7.6 64-bit ('scrapy_venv': venv)",
   "name": "python3"
  },
  "language_info": {
   "name": "python",
   "version": ""
  },
  "orig_nbformat": 4
 },
 "nbformat": 4,
 "nbformat_minor": 2
}