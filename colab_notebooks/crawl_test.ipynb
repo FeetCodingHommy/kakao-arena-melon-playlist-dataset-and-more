{
 "cells": [
  {
   "cell_type": "markdown",
   "metadata": {},
   "source": [
    "[![Open In Colab](https://colab.research.google.com/assets/colab-badge.svg)](https://colab.research.google.com/github/FeetCodingHommy/kakao-arena-melon-playlist-dataset-and-more/blob/master/colab_notebooks/crawl_test.ipynb)"
   ]
  },
  {
   "cell_type": "code",
   "execution_count": null,
   "metadata": {},
   "outputs": [],
   "source": [
    "!git clone https://github.com/FeetCodingHommy/kakao-arena-melon-playlist-dataset-and-more.git"
   ]
  }
 ],
 "metadata": {
  "interpreter": {
   "hash": "807919ce9057c9529cd8b6c5c8620b2187a7530862fc9776e507e51bf3b9aadd"
  },
  "kernelspec": {
   "display_name": "Python 3.7.6 64-bit ('scrapy_venv': venv)",
   "name": "python3"
  },
  "language_info": {
   "name": "python",
   "version": ""
  },
  "orig_nbformat": 4
 },
 "nbformat": 4,
 "nbformat_minor": 2
}