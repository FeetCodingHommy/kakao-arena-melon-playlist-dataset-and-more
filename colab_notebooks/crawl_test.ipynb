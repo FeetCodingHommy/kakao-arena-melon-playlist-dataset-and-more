{
 "cells": [
  {
   "cell_type": "code",
   "execution_count": null,
   "metadata": {},
   "outputs": [],
   "source": []
  }
 ],
 "metadata": {
  "interpreter": {
   "hash": "807919ce9057c9529cd8b6c5c8620b2187a7530862fc9776e507e51bf3b9aadd"
  },
  "kernelspec": {
   "display_name": "Python 3.7.6 64-bit ('scrapy_venv': venv)",
   "name": "python3"
  },
  "language_info": {
   "name": "python",
   "version": ""
  },
  "orig_nbformat": 4
 },
 "nbformat": 4,
 "nbformat_minor": 2
}