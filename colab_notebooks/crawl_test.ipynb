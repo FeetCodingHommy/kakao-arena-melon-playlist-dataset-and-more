{
 "cells": [
  {
   "cell_type": "markdown",
   "metadata": {},
   "source": [
    "[![Open In Colab](https://colab.research.google.com/assets/colab-badge.svg)](https://colab.research.google.com/github/FeetCodingHommy/kakao-arena-melon-playlist-dataset-and-more/blob/master/colab_notebooks/crawl_test.ipynb)"
   ]
  },
  {
   "cell_type": "markdown",
   "metadata": {},
   "source": [
    "# 세팅"
   ]
  },
  {
   "cell_type": "code",
   "execution_count": null,
   "metadata": {},
   "outputs": [],
   "source": [
    "!git clone https://github.com/FeetCodingHommy/kakao-arena-melon-playlist-dataset-and-more.git"
   ]
  },
  {
   "cell_type": "code",
   "execution_count": null,
   "metadata": {},
   "outputs": [],
   "source": [
    "!pip install -qq scrapy\r\n",
    "!pip install -qq selenium"
   ]
  },
  {
   "cell_type": "code",
   "execution_count": null,
   "metadata": {},
   "outputs": [],
   "source": [
    "import sys\r\n",
    "sys.path.append(\"/content/kakao-arena-melon-playlist-dataset-and-more/melon_scrapy\") # custom_settings에 필요\r\n",
    "import melon_scrapy"
   ]
  },
  {
   "cell_type": "code",
   "execution_count": null,
   "metadata": {},
   "outputs": [],
   "source": [
    "# 코랩 세션 끊김 방지\r\n",
    "#   아래 코드를 크롬 F12 콘솔에 실행\r\n",
    "\r\n",
    "%%javascript\r\n",
    "// function ClickConnect(){\r\n",
    "//     console.log(\"9분!\"); \r\n",
    "//     document.querySelector(\"colab-toolbar-button\").click() \r\n",
    "// }\r\n",
    "// setInterval(ClickConnect, 9 * 60 * 1000)\r\n",
    "console.log(\"Melon Crawler Test\")"
   ]
  },
  {
   "cell_type": "markdown",
   "metadata": {},
   "source": [
    "  * 서버에 바로 다운 받을 수 있는 API는 제공하지 않음 ([관련](https://arena.kakao.com/forum/topics/193))\r\n",
    "    * 직접 다운해서 구글 드라이브에 올리고 마운트 시키는 방법\r\n",
    "    * 임시로 구글 드라이브에 있는 파일을 공유해서 다운받는 방법"
   ]
  },
  {
   "cell_type": "code",
   "execution_count": null,
   "metadata": {},
   "outputs": [],
   "source": [
    "# 임시로 구글 드라이브에 있는 파일을 공유해서 다운받는 방법 - 나중에 링크 비활성화 필수\r\n",
    "\r\n",
    "!gdown --id 1JKxtYManLah1kZ6C0KqlTeqn0uKUQAc7\r\n",
    "!mv /content/song_meta.json /content/kakao-arena-melon-playlist-dataset-and-more/_scrap_input/"
   ]
  }
 ],
 "metadata": {
  "interpreter": {
   "hash": "807919ce9057c9529cd8b6c5c8620b2187a7530862fc9776e507e51bf3b9aadd"
  },
  "kernelspec": {
   "display_name": "Python 3.7.6 64-bit ('scrapy_venv': venv)",
   "name": "python3"
  },
  "language_info": {
   "name": "python",
   "version": ""
  },
  "orig_nbformat": 4
 },
 "nbformat": 4,
 "nbformat_minor": 2
}