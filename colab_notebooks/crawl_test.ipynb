{
 "cells": [
  {
   "cell_type": "markdown",
   "metadata": {},
   "source": [
    "[![Open In Colab](https://colab.research.google.com/assets/colab-badge.svg)](https://colab.research.google.com/github/FeetCodingHommy/kakao-arena-melon-playlist-dataset-and-more/blob/master/colab_notebooks/crawl_test.ipynb)"
   ]
  },
  {
   "cell_type": "markdown",
   "metadata": {},
   "source": [
    "# 세팅"
   ]
  },
  {
   "cell_type": "code",
   "execution_count": null,
   "metadata": {},
   "outputs": [],
   "source": [
    "!git clone https://github.com/FeetCodingHommy/kakao-arena-melon-playlist-dataset-and-more.git"
   ]
  },
  {
   "cell_type": "code",
   "execution_count": null,
   "metadata": {},
   "outputs": [],
   "source": [
    "!pip install -qq scrapy\r\n",
    "!pip install -qq selenium"
   ]
  },
  {
   "cell_type": "code",
   "execution_count": null,
   "metadata": {},
   "outputs": [],
   "source": [
    "import sys\r\n",
    "sys.path.append(\"/content/kakao-arena-melon-playlist-dataset-and-more/melon_scrapy\") # custom_settings에 필요\r\n",
    "import melon_scrapy"
   ]
  },
  {
   "cell_type": "code",
   "execution_count": null,
   "metadata": {},
   "outputs": [],
   "source": [
    "# 코랩 세션 끊김 방지\r\n",
    "#   아래 코드를 크롬 F12 콘솔에 실행\r\n",
    "\r\n",
    "%%javascript\r\n",
    "// function ClickConnect(){\r\n",
    "//     console.log(\"9분!\"); \r\n",
    "//     document.querySelector(\"colab-toolbar-button\").click() \r\n",
    "// }\r\n",
    "// setInterval(ClickConnect, 9 * 60 * 1000)\r\n",
    "console.log(\"Melon Crawler Test\")"
   ]
  },
  {
   "cell_type": "markdown",
   "metadata": {},
   "source": [
    "  * 서버에 바로 다운 받을 수 있는 API는 제공하지 않음 ([관련](https://arena.kakao.com/forum/topics/193))\r\n",
    "    * 직접 다운해서 구글 드라이브에 올리고 마운트 시키는 방법\r\n",
    "    * 임시로 구글 드라이브에 있는 파일을 공유해서 다운받는 방법"
   ]
  },
  {
   "cell_type": "code",
   "execution_count": null,
   "metadata": {},
   "outputs": [],
   "source": [
    "# 임시로 구글 드라이브에 있는 파일을 공유해서 다운받는 방법 - 나중에 링크 비활성화 필수\r\n",
    "\r\n",
    "!gdown --id 1JKxtYManLah1kZ6C0KqlTeqn0uKUQAc7\r\n",
    "!mv /content/song_meta.json /content/kakao-arena-melon-playlist-dataset-and-more/_scrap_input/"
   ]
  },
  {
   "cell_type": "markdown",
   "metadata": {},
   "source": [
    "# 멜론 곡 별 앨범 ID 정보"
   ]
  },
  {
   "cell_type": "code",
   "execution_count": null,
   "metadata": {},
   "outputs": [],
   "source": [
    "from melon_scrapy.my_config import COLAB_SCRAPY_INPUT_PATH\r\n",
    "import json\r\n",
    "import os\r\n",
    "\r\n",
    "with open(os.path.join(COLAB_SCRAPY_INPUT_PATH, \"song_meta.json\"), mode='r') as json_file:\r\n",
    "    all_songs = json.load(json_file)\r\n",
    "\r\n",
    "all_songs[0]"
   ]
  },
  {
   "cell_type": "code",
   "execution_count": null,
   "metadata": {},
   "outputs": [],
   "source": [
    "%%time\r\n",
    "\r\n",
    "list_of_dicts = list()\r\n",
    "for song in all_songs:\r\n",
    "    list_of_dicts.append({\r\n",
    "        \"album_id\": song[\"album_id\"],\r\n",
    "        \"id\": song[\"id\"],\r\n",
    "        \"song_name\": song[\"song_name\"]\r\n",
    "    })\r\n",
    "\r\n",
    "print(len(list_of_dicts))"
   ]
  },
  {
   "cell_type": "code",
   "execution_count": null,
   "metadata": {},
   "outputs": [],
   "source": [
    "import pandas as pd\r\n",
    "\r\n",
    "df = pd.DataFrame(list_of_dicts)\r\n",
    "del list_of_dicts\r\n",
    "df.to_csv(\"song_meta_all_ids.csv\", encoding=\"utf-8\", index=None)"
   ]
  },
  {
   "cell_type": "code",
   "execution_count": null,
   "metadata": {},
   "outputs": [],
   "source": [
    "df.head()"
   ]
  },
  {
   "cell_type": "markdown",
   "metadata": {},
   "source": [
    "# 크롤링 연습\r\n",
    "  * ※ robots.txt(로봇 배제 표준)을 준수하는 것이 웬만해선 좋음\r\n",
    "    * 관련 글 1: [개인 블로그 글](https://toyrit.com/robots-txt-set/)\r\n",
    "    * 관련 글 2: [티스토리 글](https://heodolf.tistory.com/9)(아래에 또 등장)\r\n",
    "      * ```ROBOTSTXT_OBEY = True```하면 준수하는 것\r\n",
    "    * 관련 글 3: [개인 블로그 글](https://technote.luminance.kr/entry/UserAgents)\r\n",
    "      * 유명 UserAgent 정리\r\n",
    "    * 관련 글 4: [해외 기사](https://www.zyte.com/blog/how-to-crawl-the-web-politely-with-scrapy/) - 아 님들 scrapy로 무단으로 긁어갈꺼면 최소 매너 좀;\r\n",
    "  * 멜론의 [robots.txt](https://www.melon.com/robots.txt)\r\n",
    "    * User-agent: Googlebot = 구글\r\n",
    "    * User-agent: Twitterbot\r\n",
    "    * User-agent: Applebot\r\n",
    "    * User-agent: Yeti = 네이버\r\n",
    "    * User-agent: daumoa / daumoa-image = 다음\r\n",
    "      * 다음카카오 쪽에 권한이 제일 많음\r\n",
    "    * 기타 - ```Disallow: /``` (= 다 긁어가지마)\r\n",
    "      * ㄷㄷ..."
   ]
  },
  {
   "cell_type": "markdown",
   "metadata": {},
   "source": [
    "## 1. 곡 하나 긁어보기\r\n",
    "  * heoDolf님 블로그 글: ([링크](https://heodolf.tistory.com/9))"
   ]
  },
  {
   "cell_type": "code",
   "execution_count": null,
   "metadata": {},
   "outputs": [],
   "source": [
    "!scrapy runspider /content/kakao-arena-melon-playlist-dataset-and-more/melon_scrapy/melon_scrapy/spiders/test_spider_1_crawl_one_song.py"
   ]
  },
  {
   "cell_type": "markdown",
   "metadata": {},
   "source": [
    "## 2. 앨범 링크로부터 맞는 곡 찾아와서 긁어보기\r\n",
    "※ 조진 점) 3일간의 삽질과 창희에게 SOS를 친 결과, scrapy가 멜론에서 곡들이 다 뜨기 전에 긁어와버린다는 걸 알게 되었다.\r\n",
    "  * ```response.css(\"a\").getall()```를 해보면 딱 앨범 정보 전까지의 모든 ```<a>``` 태그들만 다 긁어온다는 것을 알 수 있다.\r\n",
    "    * 창희 추천 글: 동기 vs 비동기 ([링크](https://webclub.tistory.com/605))\r\n",
    "  * \\[StackOverflow\\] scrapy가 페이지 다 로딩 될때까지 기다릴 수 있나염? - ㄴㄴ 안됨요 ㅅㄱ ([링크](https://stackoverflow.com/questions/31330890/waiting-for-the-loading-page-with-scrapy))\r\n",
    "  * \\[블로그 글\\] scrapy와 selenium을 같이 쓰시면 됩니다 ㅎㅎ ([링크](https://www.hanumoka.net/2020/07/11/python-20200711-python-scrapy-selenium/))\r\n",
    "    * 아 BeautifulSoup랑 Selenium 환경설정도 귀찮고 그냥 안써볼라고 scrapy 쓴건데"
   ]
  },
  {
   "cell_type": "code",
   "execution_count": null,
   "metadata": {},
   "outputs": [],
   "source": [
    "!scrapy runspider /content/kakao-arena-melon-playlist-dataset-and-more/melon_scrapy/melon_scrapy/spiders/test_spider_2_crawl_song_from_album.py"
   ]
  }
 ],
 "metadata": {
  "interpreter": {
   "hash": "807919ce9057c9529cd8b6c5c8620b2187a7530862fc9776e507e51bf3b9aadd"
  },
  "kernelspec": {
   "display_name": "Python 3.7.6 64-bit ('scrapy_venv': venv)",
   "name": "python3"
  },
  "language_info": {
   "name": "python",
   "version": ""
  },
  "orig_nbformat": 4
 },
 "nbformat": 4,
 "nbformat_minor": 2
}